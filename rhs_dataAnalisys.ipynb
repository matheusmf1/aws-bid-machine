{
  "nbformat": 4,
  "nbformat_minor": 0,
  "metadata": {
    "colab": {
      "name": "rhs-dataAnalisys.ipynb",
      "provenance": [],
      "collapsed_sections": [],
      "mount_file_id": "1ltp8h7xfifVjOICmTef7r-dcRPdO5IZE",
      "authorship_tag": "ABX9TyONw/eGG1SbV+oOVM0T1zHo",
      "include_colab_link": true
    },
    "kernelspec": {
      "name": "python3",
      "display_name": "Python 3"
    }
  },
  "cells": [
    {
      "cell_type": "markdown",
      "metadata": {
        "id": "view-in-github",
        "colab_type": "text"
      },
      "source": [
        "<a href=\"https://colab.research.google.com/github/matheusmf1/aws-bid-machine/blob/main/rhs_dataAnalisys.ipynb\" target=\"_parent\"><img src=\"https://colab.research.google.com/assets/colab-badge.svg\" alt=\"Open In Colab\"/></a>"
      ]
    },
    {
      "cell_type": "code",
      "metadata": {
        "id": "zAFGjpYpsjl4"
      },
      "source": [
        "import pandas as pd\n",
        "import json"
      ],
      "execution_count": 38,
      "outputs": []
    },
    {
      "cell_type": "code",
      "metadata": {
        "colab": {
          "base_uri": "https://localhost:8080/",
          "height": 80
        },
        "id": "UcB-0_oftmvn",
        "outputId": "ec2ac5ec-ee66-434e-87ac-427564b9f4e9"
      },
      "source": [
        "# fileName = \"/content/drive/MyDrive/Colab Notebooks/155917_8_1095_20201207223020.json\"\n",
        "fileName = \"/content/drive/MyDrive/Colab Notebooks/155917_3_1091_20201207220101.json\"\n",
        "\n",
        "data = pd.read_json( fileName )\n",
        "\n",
        "data"
      ],
      "execution_count": 39,
      "outputs": [
        {
          "output_type": "execute_result",
          "data": {
            "text/html": [
              "<div>\n",
              "<style scoped>\n",
              "    .dataframe tbody tr th:only-of-type {\n",
              "        vertical-align: middle;\n",
              "    }\n",
              "\n",
              "    .dataframe tbody tr th {\n",
              "        vertical-align: top;\n",
              "    }\n",
              "\n",
              "    .dataframe thead th {\n",
              "        text-align: right;\n",
              "    }\n",
              "</style>\n",
              "<table border=\"1\" class=\"dataframe\">\n",
              "  <thead>\n",
              "    <tr style=\"text-align: right;\">\n",
              "      <th></th>\n",
              "      <th>licitacoes</th>\n",
              "    </tr>\n",
              "  </thead>\n",
              "  <tbody>\n",
              "    <tr>\n",
              "      <th>licitacao</th>\n",
              "      <td>[{'palavrasEncontradasAgrupadasXml': {'palavra...</td>\n",
              "    </tr>\n",
              "  </tbody>\n",
              "</table>\n",
              "</div>"
            ],
            "text/plain": [
              "                                                  licitacoes\n",
              "licitacao  [{'palavrasEncontradasAgrupadasXml': {'palavra..."
            ]
          },
          "metadata": {
            "tags": []
          },
          "execution_count": 39
        }
      ]
    },
    {
      "cell_type": "markdown",
      "metadata": {
        "id": "GWTB8-NyF8mu"
      },
      "source": [
        "# Prepare dataset"
      ]
    },
    {
      "cell_type": "code",
      "metadata": {
        "id": "DV7pCS-c2fHG"
      },
      "source": [
        "def prepareDataSet( data ):\n",
        "\n",
        "  df = pd.DataFrame( data )\n",
        "\n",
        "  # Create new Columns\n",
        "  createNewColumns( df )\n",
        "\n",
        "  # Drop nested columns\n",
        "  df.drop( ['palavrasEncontradasAgrupadasXml', 'linksAgrupadosXml', 'trechosEncontradosAgrupadosXml' ], axis = 1, inplace = True  )\n",
        "\n",
        "  df.reset_index( drop = True, inplace = True )\n",
        "  df.drop_duplicates( inplace = True )\n",
        "\n",
        "  return df"
      ],
      "execution_count": 40,
      "outputs": []
    },
    {
      "cell_type": "code",
      "metadata": {
        "id": "hEEz6wfTgX36"
      },
      "source": [
        "def createNewColumns( df ):\n",
        "  \n",
        "  if type( df['palavrasEncontradasAgrupadasXml']['palavra'] ) == str:\n",
        "    \n",
        "    df['palavraEncontrada'] = df['palavrasEncontradasAgrupadasXml']['palavra']\n",
        "\n",
        "  elif type(df['palavrasEncontradasAgrupadasXml']['palavra']) == list:\n",
        "\n",
        "    df['palavraEncontrada'] = \",\".join( df['palavrasEncontradasAgrupadasXml']['palavra'] )  \n",
        "\n",
        "\n",
        "  if type( df['linksAgrupadosXml']['link'] ) == str:\n",
        "    \n",
        "    df['links'] = df['linksAgrupadosXml']['link']\n",
        "\n",
        "  elif ( type( df['linksAgrupadosXml']['link'] ) == list ):\n",
        "    \n",
        "    df['links'] = \",\".join( df['linksAgrupadosXml']['link'] )  \n",
        "\n",
        "\n",
        "  if type( df['trechosEncontradosAgrupadosXml']['trecho'] ) == str:\n",
        "    \n",
        "    df['trechos'] = df['trechosEncontradosAgrupadosXml']['trecho']\n",
        "\n",
        "  elif ( type( df['trechosEncontradosAgrupadosXml']['trecho'] ) == list ):\n",
        "   \n",
        "    df['trechos'] = \",\".join( df['trechosEncontradosAgrupadosXml']['trecho'] )"
      ],
      "execution_count": 41,
      "outputs": []
    },
    {
      "cell_type": "code",
      "metadata": {
        "id": "s49fvElm3wIL",
        "colab": {
          "base_uri": "https://localhost:8080/"
        },
        "outputId": "66a12e50-c57a-4fde-ee28-6289318e5d2a"
      },
      "source": [
        "licitacaoType = type(data['licitacoes']['licitacao'])\n",
        "\n",
        "if licitacaoType == dict:\n",
        "  \n",
        "  mainData = data['licitacoes']['licitacao']\n",
        "  df_new = prepareDataSet( mainData ) \n",
        "\n",
        "elif licitacaoType == list:\n",
        "\n",
        "  df_new = pd.DataFrame()\n",
        "  \n",
        "  for licitacao in data['licitacoes']['licitacao']:\n",
        "    df_new = df_new.append( prepareDataSet( licitacao ), ignore_index = True )\n",
        "    print(df_new['palavraEncontrada'])"
      ],
      "execution_count": 42,
      "outputs": [
        {
          "output_type": "stream",
          "text": [
            "0    Armazenamento,AVA,Backup,CRM,EAD,Google,Hardwa...\n",
            "Name: palavraEncontrada, dtype: object\n",
            "0    Armazenamento,AVA,Backup,CRM,EAD,Google,Hardwa...\n",
            "1                   Armazenamento,Cloud,ERP,Nuvem,SAAS\n",
            "Name: palavraEncontrada, dtype: object\n",
            "0    Armazenamento,AVA,Backup,CRM,EAD,Google,Hardwa...\n",
            "1                   Armazenamento,Cloud,ERP,Nuvem,SAAS\n",
            "2    Armazenamento,Backup,Big Data,Hardware,Microso...\n",
            "Name: palavraEncontrada, dtype: object\n"
          ],
          "name": "stdout"
        }
      ]
    },
    {
      "cell_type": "code",
      "metadata": {
        "colab": {
          "base_uri": "https://localhost:8080/",
          "height": 349
        },
        "id": "8pWl2VOFhwwY",
        "outputId": "bdd57e13-33ee-4871-9e93-80dc328f8f06"
      },
      "source": [
        "df_new"
      ],
      "execution_count": 29,
      "outputs": [
        {
          "output_type": "execute_result",
          "data": {
            "text/html": [
              "<div>\n",
              "<style scoped>\n",
              "    .dataframe tbody tr th:only-of-type {\n",
              "        vertical-align: middle;\n",
              "    }\n",
              "\n",
              "    .dataframe tbody tr th {\n",
              "        vertical-align: top;\n",
              "    }\n",
              "\n",
              "    .dataframe thead th {\n",
              "        text-align: right;\n",
              "    }\n",
              "</style>\n",
              "<table border=\"1\" class=\"dataframe\">\n",
              "  <thead>\n",
              "    <tr style=\"text-align: right;\">\n",
              "      <th></th>\n",
              "      <th>objeto</th>\n",
              "      <th>modalidade</th>\n",
              "      <th>registro</th>\n",
              "      <th>orgao</th>\n",
              "      <th>prazoTipo</th>\n",
              "      <th>prazoData</th>\n",
              "      <th>prazoHora</th>\n",
              "      <th>endereco</th>\n",
              "      <th>cidade</th>\n",
              "      <th>uf</th>\n",
              "      <th>telefone</th>\n",
              "      <th>site</th>\n",
              "      <th>palavraEncontrada</th>\n",
              "      <th>links</th>\n",
              "      <th>trechos</th>\n",
              "    </tr>\n",
              "  </thead>\n",
              "  <tbody>\n",
              "    <tr>\n",
              "      <th>0</th>\n",
              "      <td>UASG: 200109  PREGAO ELETRONICO -  CONTRATACAO...</td>\n",
              "      <td>PE/21/2020</td>\n",
              "      <td>10235516/11590</td>\n",
              "      <td>Departamento de Policia Rodoviaria Federal</td>\n",
              "      <td>Prazo para Abertura</td>\n",
              "      <td>17/12/2020</td>\n",
              "      <td>09:00</td>\n",
              "      <td>Spo, Quadra 3, Lote 5 Complexo Sede da PRF, As...</td>\n",
              "      <td>Brasilia</td>\n",
              "      <td>DF</td>\n",
              "      <td>Nao informado pela fonte</td>\n",
              "      <td>None</td>\n",
              "      <td>Armazenamento,AVA,Backup,CRM,EAD,Google,Hardwa...</td>\n",
              "      <td>https://www.licitacao.com.br/editais/IA-MARE/2...</td>\n",
              "      <td>originÃ¡rios da contrataÃ§Ã£o, recolhendo-os a...</td>\n",
              "    </tr>\n",
              "    <tr>\n",
              "      <th>1</th>\n",
              "      <td>UASG: 135058  PREGAO ELETRONICO -  CONTRATACAO...</td>\n",
              "      <td>PE/14/2020</td>\n",
              "      <td>10246947/11590</td>\n",
              "      <td>EMBRAPA - Empresa Brasileira de Pesquisa Agrop...</td>\n",
              "      <td>Prazo para Abertura das Propostas</td>\n",
              "      <td>18/12/2020</td>\n",
              "      <td>09:00</td>\n",
              "      <td>http://www.comprasnet.gov.br</td>\n",
              "      <td>Brasilia</td>\n",
              "      <td>DF</td>\n",
              "      <td>Nao informado pela fonte</td>\n",
              "      <td>None</td>\n",
              "      <td>Armazenamento,Cloud,ERP,Nuvem,SAAS</td>\n",
              "      <td>https://www.licitacao.com.br/editais/IA-MARE/2...</td>\n",
              "      <td>materiais reciclÃ¡veis, de forma a garantir a ...</td>\n",
              "    </tr>\n",
              "    <tr>\n",
              "      <th>2</th>\n",
              "      <td>UASG: 135036  PREGAO ELETRONICO -  FORMACAO DE...</td>\n",
              "      <td>PE/38/2020</td>\n",
              "      <td>10246938/11590</td>\n",
              "      <td>EMBRAPA - Empresa Brasileira de Pesquisa Agrop...</td>\n",
              "      <td>Prazo para Abertura das Propostas</td>\n",
              "      <td>17/12/2020</td>\n",
              "      <td>09:00</td>\n",
              "      <td>Rod. GO 462, Km 12</td>\n",
              "      <td>SANTO ANTONIO DE GOIAS</td>\n",
              "      <td>GO</td>\n",
              "      <td>(62) 3533-2190</td>\n",
              "      <td>None</td>\n",
              "      <td>Armazenamento,Backup,Big Data,Hardware,Microso...</td>\n",
              "      <td>https://www.licitacao.com.br/editais/IA-MARE/2...</td>\n",
              "      <td>Module) para &lt;em&gt;armazenamento&lt;/em&gt; de chaves ...</td>\n",
              "    </tr>\n",
              "  </tbody>\n",
              "</table>\n",
              "</div>"
            ],
            "text/plain": [
              "                                              objeto  ...                                            trechos\n",
              "0  UASG: 200109  PREGAO ELETRONICO -  CONTRATACAO...  ...  originÃ¡rios da contrataÃ§Ã£o, recolhendo-os a...\n",
              "1  UASG: 135058  PREGAO ELETRONICO -  CONTRATACAO...  ...  materiais reciclÃ¡veis, de forma a garantir a ...\n",
              "2  UASG: 135036  PREGAO ELETRONICO -  FORMACAO DE...  ...  Module) para <em>armazenamento</em> de chaves ...\n",
              "\n",
              "[3 rows x 15 columns]"
            ]
          },
          "metadata": {
            "tags": []
          },
          "execution_count": 29
        }
      ]
    },
    {
      "cell_type": "markdown",
      "metadata": {
        "id": "BmiSjEHs2SL4"
      },
      "source": [
        "# Find specific word"
      ]
    },
    {
      "cell_type": "code",
      "metadata": {
        "colab": {
          "base_uri": "https://localhost:8080/",
          "height": 123
        },
        "id": "XEkA9LgT2YMM",
        "outputId": "9aef7e15-1661-4407-e6b3-f156a1074889"
      },
      "source": [
        "jsonBody = df_new.to_json()\n",
        "jsonBody"
      ],
      "execution_count": 8,
      "outputs": [
        {
          "output_type": "execute_result",
          "data": {
            "application/vnd.google.colaboratory.intrinsic+json": {
              "type": "string"
            },
            "text/plain": [
              "'{\"objeto\":{\"0\":\"UASG: 200109  PREGAO ELETRONICO -  CONTRATACAO DE EMPRESA ESPECIALIZADA NA PRESTACAO DE SERVICOS DE ADMINISTRACAO E GERENCIAMENTO, POR MEIO DE SISTEMA INFORMATIZADO, PARA FORNECIMENTO DE COMBUSTIVEIS, OLEOS, FILTROS LUBRIFICANTES, SERVICOS DE LAVAGENS E DE BORRACHARIA, DE MANUTENCAO PREVENTIVA E CORRETIVA, COM FORNECIMENTO DE PECAS\\\\/MATERIAIS PARA ATENDER TODAS AS MAQUINAS, EQUIPAMENTOS E VEICULOS DO DEPARTAMENTO DE POLICIA RODOVIARIA E ORGAOS PARTICIPANTES.\",\"1\":\"UASG: 135058  PREGAO ELETRONICO -  CONTRATACAO DE EMPRESA ESPECIALIZADA PARA GOVERNANCA DE NOVOS CADASTRAMENTOS NA BASE DE DADOS DE MATERIAIS, BENS E SERVICOS; MANUTENCAO DA CONFORMIDADE DOS ITENS DA BASE DE DADOS E;  IMPLANTACAO E CONCESSAO DE USO POR TODA A VIGENCIA DO CONTRATO DE SISTEMA PROPRIO INFORMATIZADO, COMPATIVEL PARA INTEGRACAO AO SISTEMA DE GESTAO INTEGRADO CORPORATIVO (ERP \\\\/ SAP S\\\\/4 HANA)\",\"2\":\"UASG: 135036  PREGAO ELETRONICO -  FORMACAO DE REGISTRO DE PRECO PARA EVENTUAL AQUISICAO DE SERVIDORES DE REDE E OUTROS MATERIAIS DE INFORMATICA\"},\"modalidade\":{\"0\":\"PE\\\\/21\\\\/2020\",\"1\":\"PE\\\\/14\\\\/2020\",\"2\":\"PE\\\\/38\\\\/2020\"},\"registro\":{\"0\":\"10235516\\\\/11590\",\"1\":\"10246947\\\\/11590\",\"2\":\"10246938\\\\/11590\"},\"orgao\":{\"0\":\"Departamento de Policia Rodoviaria Federal\",\"1\":\"EMBRAPA - Empresa Brasileira de Pesquisa Agropecuaria\",\"2\":\"EMBRAPA - Empresa Brasileira de Pesquisa Agropecuaria Centro Nacional de Pesquisa de Arroz e Feijao\"},\"prazoTipo\":{\"0\":\"Prazo para Abertura\",\"1\":\"Prazo para Abertura das Propostas\",\"2\":\"Prazo para Abertura das Propostas\"},\"prazoData\":{\"0\":\"17\\\\/12\\\\/2020\",\"1\":\"18\\\\/12\\\\/2020\",\"2\":\"17\\\\/12\\\\/2020\"},\"prazoHora\":{\"0\":\"09:00\",\"1\":\"09:00\",\"2\":\"09:00\"},\"endereco\":{\"0\":\"Spo, Quadra 3, Lote 5 Complexo Sede da PRF, Asa Sul\",\"1\":\"http:\\\\/\\\\/www.comprasnet.gov.br\",\"2\":\"Rod. GO 462, Km 12\"},\"cidade\":{\"0\":\"Brasilia\",\"1\":\"Brasilia\",\"2\":\"SANTO ANTONIO DE GOIAS\"},\"uf\":{\"0\":\"DF\",\"1\":\"DF\",\"2\":\"GO\"},\"telefone\":{\"0\":\"Nao informado pela fonte\",\"1\":\"Nao informado pela fonte\",\"2\":\"(62) 3533-2190\"},\"site\":{\"0\":null,\"1\":null,\"2\":null},\"palavraEncontrada\":{\"0\":\"Armazenamento,AVA,Backup,CRM,EAD,Google,Hardware,Microsoft\",\"1\":\"Armazenamento,Cloud,ERP,Nuvem,SAAS\",\"2\":\"Armazenamento,Backup,Big Data,Hardware,Microsoft,Storage,VMWARE\"},\"links\":{\"0\":\"https:\\\\/\\\\/www.licitacao.com.br\\\\/editais\\\\/IA-MARE\\\\/2020\\\\/dezembro\\\\/1766053.zip\",\"1\":\"https:\\\\/\\\\/www.licitacao.com.br\\\\/editais\\\\/IA-MARE\\\\/2020\\\\/dezembro\\\\/1773771.zip\",\"2\":\"https:\\\\/\\\\/www.licitacao.com.br\\\\/editais\\\\/IA-MARE\\\\/2020\\\\/dezembro\\\\/1773762.zip\"},\"trechos\":{\"0\":\"origin\\\\u00c3\\\\u00a1rios da contrata\\\\u00c3\\\\u00a7\\\\u00c3\\\\u00a3o, recolhendo-os aos pontos de coleta ou centrais de <em>armazenamento<\\\\/em> man1dos,, nos procedimentos de recolhimento, acondicionamento, <em>armazenamento<\\\\/em> e transporte das Subst\\\\u00c3\\\\u00a2ncias,de vig\\\\u00c3\\\\u00aancia da ata, desde que solicitada pelo \\\\u00c3\\\\u00b3rg\\\\u00c3\\\\u00a3o n\\\\u00c3\\\\u00a3o participante. 30. DO <em>ARMAZENAMENTO<\\\\/em>,-5317 GM -CHEVROLET S-10 LTZ FD2 2015 GASOLINA COMUM\\\\/ETANOL    2909 89 SRPRF\\\\/PR <em>AVA<\\\\/em>-6018 GM -CHEVROLET S,-10 PICK-UP LT FD2 2014 GASOLINA COMUM\\\\/ETANOL    2910 90 SRPRF\\\\/PR <em>AVA<\\\\/em>-6118 GM -CHEVROLET S-10 PICK,-UP LT FD2 2014 GASOLINA COMUM\\\\/ETANOL    2911 91 SRPRF\\\\/PR <em>AVA<\\\\/em>-9118 GM -CHEVROLET S-10 PICK-UP LT FD2,FLEX 16VMEC. 2011 GASOLINA COMUM\\\\/ETANOL    3106 286 SRPRF\\\\/PR <em>AVA<\\\\/em>-0469 TOYOTA COROLLA GLI 1.8 FLEX,16VMEC. 2011 GASOLINA COMUM\\\\/ETANOL    3107 287 SRPRF\\\\/PR <em>AVA<\\\\/em>-0473 TOYOTA COROLLA GLI 1.8 FLEX 16VMEC,nacionais, regionais ou locais. 10.23. A base de dados dever\\\\u00c3\\\\u00a1 possuir <em>backup<\\\\/em> di\\\\u00c3\\\\u00a1rio,(quem, o que e quando). 30.4. A base de dados dever\\\\u00c3\\\\u00a1 possuir <em>backup<\\\\/em> di\\\\u00c3\\\\u00a1rio. Todas as informa\\\\u00c3\\\\u00a7\\\\u00c3\\\\u00b5es, apesar de dispostas,440 A6X2 2017 DIESEL 2652 146 SR\\\\/PF\\\\/MS ATV-8003 VOLKSWAGEM 24280 <em>CRM<\\\\/em> 6X2 2012 DIESEL 2653 147 SR\\\\/PF,FLEX 2660 154 SR\\\\/PF\\\\/MS <em>EAD<\\\\/em>-8084 MITSUBISHI L200 TRITON 3.2 D 2010 DIESEL 2661 155 SR\\\\/PF\\\\/MS FNC-6878,-9840 VW -VOLKSWAGEN TIGUAN 2010 GASOLINA    3012 199 SR\\\\/PF\\\\/MT <em>EAD<\\\\/em>-2717 VW -VOLKSWAGEN SAVEIRO 1.6,\\\\/Vista\\\\/Seven\\\\/8\\\\/10 e Linux, com os navegadores MS Internet Explorer, Mozilla Firefox e <em>Google<\\\\/em> Chrome,\\\\/10 e Linux, com os navegadores MS Internet Explorer, Mozilla Firefox e <em>Google<\\\\/em> Chrome,e e\\\\u00ef\\\\u00ac caz \\\\u00e2   Sistema de <em>Hardware<\\\\/em> e Sodware \\\\u00e2   para suporte ao gerenciamento e controle dos processos,, e tamb\\\\u00c3\\\\u00a9m com ferramentas de escrit\\\\u00c3\\\\u00b3rio <em>Microsoft<\\\\/em> Office 97\\\\/2000\\\\/XP\\\\/Vista\\\\/Seven, LibreOffice e BrOffice\",\"1\":\"materiais recicl\\\\u00c3\\\\u00a1veis, de forma a garantir a m\\\\u00c3\\\\u00a1xima prote\\\\u00c3\\\\u00a7\\\\u00c3\\\\u00a3o durante o transporte e o <em>armazenamento<\\\\/em>; e b,a integra\\\\u00c3\\\\u00a7\\\\u00c3\\\\u00a3o online via webservices; i) Disponibilizar a integra\\\\u00c3\\\\u00a7\\\\u00c3\\\\u00a3o online SCP-SAP <em>Cloud<\\\\/em> Platform ou estrutura,nativa com o ERP via SCP (SAP <em>Cloud<\\\\/em> Plataform). 3.5.7 A plataforma web dever\\\\u00c3\\\\u00a1 conter as VIS\\\\u00c3 ES,nativos do SAP\\\\/ERP. 3.8.3. Deve ser baseada nos servi\\\\u00c3\\\\u00a7os de integra\\\\u00c3\\\\u00a7\\\\u00c3\\\\u00a3o da SAP <em>Cloud<\\\\/em> Platform (SCP,) e utilizar o SAP <em>Cloud<\\\\/em> Connector; 3.8.4. A plataforma e integra\\\\u00c3\\\\u00a7\\\\u00c3\\\\u00b5es oferecidas devem ser homologadas,de Gest\\\\u00c3\\\\u00a3o Integrado Corporativo (<em>ERP<\\\\/em> \\\\/ SAP S\\\\/4 HANA) para suportar a demanda de cadastramento,, compat\\\\u00c3 vel para integra\\\\u00c3\\\\u00a7\\\\u00c3\\\\u00a3o ao Sistema de Gest\\\\u00c3\\\\u00a3o Integrado Corporativo (<em>ERP<\\\\/em> \\\\/ SAP S\\\\/4 HANA) para,, compat\\\\u00c3 vel para integra\\\\u00c3\\\\u00a7\\\\u00c3\\\\u00a3o ao Sistema de Gest\\\\u00c3\\\\u00a3o Integrado Corporativo (<em>ERP<\\\\/em> \\\\/ SAP S\\\\/4 HANA) (art. 58,pr\\\\u00c3\\\\u00b3prio informatizado, compat\\\\u00c3 vel para integra\\\\u00c3\\\\u00a7\\\\u00c3\\\\u00a3o ao Sistema de Gest\\\\u00c3\\\\u00a3o Integrado Corporativo (<em>ERP<\\\\/em> \\\\/ SAP S\\\\/4 HANA,em todo o territ\\\\u00c3\\\\u00b3rio nacional e encontra-se em processo de implanta\\\\u00c3\\\\u00a7\\\\u00c3\\\\u00a3o de um Sistema Integrado de Gest\\\\u00c3\\\\u00a3o <em>ERP<\\\\/em>,PROPRIO INFORMATIZADO, COMPATIVEL PARA INTEGRACAO AO SISTEMA DE GESTAO INTEGRADO CORPORATIVO (<em>ERP<\\\\/em> \\\\/ SAP S\\\\/4,para at\\\\u00c3\\\\u00a9 60 pessoas; c) Configura\\\\u00c3\\\\u00a7\\\\u00c3\\\\u00a3o do ambiente em <em>nuvem<\\\\/em>; d) Todas as configura\\\\u00c3\\\\u00a7\\\\u00c3\\\\u00b5es,de <em>SaaS<\\\\/em> similar , com servidor qualificado para hospedar a plataforma de cadastros conforme\",\"2\":\"Module) para <em>armazenamento<\\\\/em> de chaves criptogr\\\\u00c3\\\\u00a1ficas; Dever\\\\u00c3\\\\u00a1 possuir recurso de detec\\\\u00c3\\\\u00a7\\\\u00c3\\\\u00a3o de viola\\\\u00c3\\\\u00a7\\\\u00c3\\\\u00a3o,.    <em>Armazenamento<\\\\/em>   Possuir 06 (seis) drives HD SATA de 4 TB 7.200 Rpm Os discos devem acompanhar,de E\\\\/S 4 slots PCIe e um slot de <em>armazenamento<\\\\/em>.   Controlador RAID - Interno: PERC H200 (6 Gbit\\\\/s,fina com op\\\\u00c3\\\\u00a7\\\\u00c3\\\\u00a3o de DVD-ROM, unidade combinada de CD- RW\\\\/DVD-ROM ou DVD + RW   <em>Armazenamento<\\\\/em> interno,) de 2,5\\\\u00e2   SAS (10.000, 15.000), SAS nearline (7200), SATA (5400, 7200) de 3,5\\\\u00e2  . Placas de <em>armazenamento<\\\\/em>,, funcionaria como um <em>backup<\\\\/em>. Estes dois equipamentos estariam conectados, tornando o compartilhamento,e armazenamento dos chamados \\\\u00e2  grandes dados\\\\u00e2   (<em>Big<\\\\/em> <em>Data<\\\\/em>). Neste momento, estes \\\\u00e2  grandes dados\\\\u00e2   s\\\\u00c3\\\\u00a3o,.).    Gerenciamento   O equipamento deve possuir solu\\\\u00c3\\\\u00a7\\\\u00c3\\\\u00a3o de gerenciamento atrav\\\\u00c3\\\\u00a9s de recursos de <em>hardware<\\\\/em> e software,de gerenciamento e monitoramento de <em>hardware<\\\\/em> devem ser providas por recursos do pr\\\\u00c3\\\\u00b3prio equipamento e independente,-45. Possuir os recursos de TSO, jumbo frames, VMware NetQueue, <em>Microsoft<\\\\/em> VMQ, NIC teaming, VLAN,e balanceamento de carga; TOE (TCPIP Offload Engine) suportado no <em>Microsoft<\\\\/em>\\\\u00ae Windows Server\\\\u00ae 2003 SP1,. Neste sentido, o estabelecimento de uma central de dados, composta por um novo servidor, um <em>storage<\\\\/em> e um switch,e processamento de dados. J\\\\u00c3\\\\u00a1 o <em>storage<\\\\/em>, considerado como uma solu\\\\u00c3\\\\u00a7\\\\u00c3\\\\u00a3o confi\\\\u00c3\\\\u00a1vel para o armazenamento de dados,-45. Possuir os recursos de TSO, jumbo frames, <em>VMware<\\\\/em> NetQueue, Microsoft VMQ, NIC teaming, VLAN,comprovada para o sistema de virtualiza\\\\u00c3\\\\u00a7\\\\u00c3\\\\u00a3o <em>VMware<\\\\/em> ESX 6.7 ou posterior. O modelo do servidor ofertado deve,. O modelo do servidor ofertado deve ser compat\\\\u00c3 vel com o sistema de virtualiza\\\\u00c3\\\\u00a7\\\\u00c3\\\\u00a3o <em>VMware<\\\\/em> ESX 6.7\"}}'"
            ]
          },
          "metadata": {
            "tags": []
          },
          "execution_count": 8
        }
      ]
    },
    {
      "cell_type": "code",
      "metadata": {
        "colab": {
          "base_uri": "https://localhost:8080/",
          "height": 349
        },
        "id": "TvoTy7ro2qv0",
        "outputId": "7313bb7b-f685-4979-b4b7-340d4acb2b56"
      },
      "source": [
        "df = pd.read_json( jsonBody )\n",
        "df"
      ],
      "execution_count": 9,
      "outputs": [
        {
          "output_type": "execute_result",
          "data": {
            "text/html": [
              "<div>\n",
              "<style scoped>\n",
              "    .dataframe tbody tr th:only-of-type {\n",
              "        vertical-align: middle;\n",
              "    }\n",
              "\n",
              "    .dataframe tbody tr th {\n",
              "        vertical-align: top;\n",
              "    }\n",
              "\n",
              "    .dataframe thead th {\n",
              "        text-align: right;\n",
              "    }\n",
              "</style>\n",
              "<table border=\"1\" class=\"dataframe\">\n",
              "  <thead>\n",
              "    <tr style=\"text-align: right;\">\n",
              "      <th></th>\n",
              "      <th>objeto</th>\n",
              "      <th>modalidade</th>\n",
              "      <th>registro</th>\n",
              "      <th>orgao</th>\n",
              "      <th>prazoTipo</th>\n",
              "      <th>prazoData</th>\n",
              "      <th>prazoHora</th>\n",
              "      <th>endereco</th>\n",
              "      <th>cidade</th>\n",
              "      <th>uf</th>\n",
              "      <th>telefone</th>\n",
              "      <th>site</th>\n",
              "      <th>palavraEncontrada</th>\n",
              "      <th>links</th>\n",
              "      <th>trechos</th>\n",
              "    </tr>\n",
              "  </thead>\n",
              "  <tbody>\n",
              "    <tr>\n",
              "      <th>0</th>\n",
              "      <td>UASG: 200109  PREGAO ELETRONICO -  CONTRATACAO...</td>\n",
              "      <td>PE/21/2020</td>\n",
              "      <td>10235516/11590</td>\n",
              "      <td>Departamento de Policia Rodoviaria Federal</td>\n",
              "      <td>Prazo para Abertura</td>\n",
              "      <td>17/12/2020</td>\n",
              "      <td>09:00</td>\n",
              "      <td>Spo, Quadra 3, Lote 5 Complexo Sede da PRF, As...</td>\n",
              "      <td>Brasilia</td>\n",
              "      <td>DF</td>\n",
              "      <td>Nao informado pela fonte</td>\n",
              "      <td>NaN</td>\n",
              "      <td>Armazenamento,AVA,Backup,CRM,EAD,Google,Hardwa...</td>\n",
              "      <td>https://www.licitacao.com.br/editais/IA-MARE/2...</td>\n",
              "      <td>originÃ¡rios da contrataÃ§Ã£o, recolhendo-os a...</td>\n",
              "    </tr>\n",
              "    <tr>\n",
              "      <th>1</th>\n",
              "      <td>UASG: 135058  PREGAO ELETRONICO -  CONTRATACAO...</td>\n",
              "      <td>PE/14/2020</td>\n",
              "      <td>10246947/11590</td>\n",
              "      <td>EMBRAPA - Empresa Brasileira de Pesquisa Agrop...</td>\n",
              "      <td>Prazo para Abertura das Propostas</td>\n",
              "      <td>18/12/2020</td>\n",
              "      <td>09:00</td>\n",
              "      <td>http://www.comprasnet.gov.br</td>\n",
              "      <td>Brasilia</td>\n",
              "      <td>DF</td>\n",
              "      <td>Nao informado pela fonte</td>\n",
              "      <td>NaN</td>\n",
              "      <td>Armazenamento,Cloud,ERP,Nuvem,SAAS</td>\n",
              "      <td>https://www.licitacao.com.br/editais/IA-MARE/2...</td>\n",
              "      <td>materiais reciclÃ¡veis, de forma a garantir a ...</td>\n",
              "    </tr>\n",
              "    <tr>\n",
              "      <th>2</th>\n",
              "      <td>UASG: 135036  PREGAO ELETRONICO -  FORMACAO DE...</td>\n",
              "      <td>PE/38/2020</td>\n",
              "      <td>10246938/11590</td>\n",
              "      <td>EMBRAPA - Empresa Brasileira de Pesquisa Agrop...</td>\n",
              "      <td>Prazo para Abertura das Propostas</td>\n",
              "      <td>17/12/2020</td>\n",
              "      <td>09:00</td>\n",
              "      <td>Rod. GO 462, Km 12</td>\n",
              "      <td>SANTO ANTONIO DE GOIAS</td>\n",
              "      <td>GO</td>\n",
              "      <td>(62) 3533-2190</td>\n",
              "      <td>NaN</td>\n",
              "      <td>Armazenamento,Backup,Big Data,Hardware,Microso...</td>\n",
              "      <td>https://www.licitacao.com.br/editais/IA-MARE/2...</td>\n",
              "      <td>Module) para &lt;em&gt;armazenamento&lt;/em&gt; de chaves ...</td>\n",
              "    </tr>\n",
              "  </tbody>\n",
              "</table>\n",
              "</div>"
            ],
            "text/plain": [
              "                                              objeto  ...                                            trechos\n",
              "0  UASG: 200109  PREGAO ELETRONICO -  CONTRATACAO...  ...  originÃ¡rios da contrataÃ§Ã£o, recolhendo-os a...\n",
              "1  UASG: 135058  PREGAO ELETRONICO -  CONTRATACAO...  ...  materiais reciclÃ¡veis, de forma a garantir a ...\n",
              "2  UASG: 135036  PREGAO ELETRONICO -  FORMACAO DE...  ...  Module) para <em>armazenamento</em> de chaves ...\n",
              "\n",
              "[3 rows x 15 columns]"
            ]
          },
          "metadata": {
            "tags": []
          },
          "execution_count": 9
        }
      ]
    },
    {
      "cell_type": "code",
      "metadata": {
        "colab": {
          "base_uri": "https://localhost:8080/"
        },
        "id": "26dsOCbc2_Xm",
        "outputId": "af0080ec-5fa8-4ebd-9fa8-80ca50194c4b"
      },
      "source": [
        "df['palavraEncontrada']"
      ],
      "execution_count": 10,
      "outputs": [
        {
          "output_type": "execute_result",
          "data": {
            "text/plain": [
              "0    Armazenamento,AVA,Backup,CRM,EAD,Google,Hardwa...\n",
              "1                   Armazenamento,Cloud,ERP,Nuvem,SAAS\n",
              "2    Armazenamento,Backup,Big Data,Hardware,Microso...\n",
              "Name: palavraEncontrada, dtype: object"
            ]
          },
          "metadata": {
            "tags": []
          },
          "execution_count": 10
        }
      ]
    },
    {
      "cell_type": "code",
      "metadata": {
        "colab": {
          "base_uri": "https://localhost:8080/"
        },
        "id": "7S3RR3ynuWSV",
        "outputId": "e8d1b3b6-8f49-4d34-e1d9-fa06a702e2e7"
      },
      "source": [
        "df['palavraEncontrada'] = df['palavraEncontrada'].map( lambda x: x.lower().split(',') )\n",
        "df['palavraEncontrada']"
      ],
      "execution_count": 11,
      "outputs": [
        {
          "output_type": "execute_result",
          "data": {
            "text/plain": [
              "0    [armazenamento, ava, backup, crm, ead, google,...\n",
              "1             [armazenamento, cloud, erp, nuvem, saas]\n",
              "2    [armazenamento, backup, big data, hardware, mi...\n",
              "Name: palavraEncontrada, dtype: object"
            ]
          },
          "metadata": {
            "tags": []
          },
          "execution_count": 11
        }
      ]
    },
    {
      "cell_type": "code",
      "metadata": {
        "colab": {
          "base_uri": "https://localhost:8080/"
        },
        "id": "Ri5XlyWO3imB",
        "outputId": "a6425433-3370-4de6-fea2-24965555d9fc"
      },
      "source": [
        "from collections import Counter\n",
        "listWords = [ 'google', 'backup', 'microsoft azure' ]\n",
        "\n",
        "foundWords = []\n",
        "\n",
        "for row in df['palavraEncontrada']:\n",
        "  print(row)\n",
        "  \n",
        "  for word in row:\n",
        "  \n",
        "    if word in listWords:\n",
        "      print(f'toop: {word}')\n",
        "      foundWords.append( word )\n",
        "\n",
        "print( f'Lista de palavras achada: {foundWords}' )"
      ],
      "execution_count": 32,
      "outputs": [
        {
          "output_type": "stream",
          "text": [
            "['armazenamento', 'ava', 'backup', 'crm', 'ead', 'google', 'hardware', 'microsoft']\n",
            "toop: backup\n",
            "toop: google\n",
            "['armazenamento', 'cloud', 'erp', 'nuvem', 'saas']\n",
            "['armazenamento', 'backup', 'big data', 'hardware', 'microsoft', 'storage', 'vmware']\n",
            "toop: backup\n",
            "Lista de palavras achada: ['backup', 'google', 'backup']\n"
          ],
          "name": "stdout"
        }
      ]
    },
    {
      "cell_type": "code",
      "metadata": {
        "id": "BKMnJFXIk1KG"
      },
      "source": [
        "number = Counter( foundWords )"
      ],
      "execution_count": 37,
      "outputs": []
    },
    {
      "cell_type": "code",
      "metadata": {
        "id": "vVgkamO47QDY"
      },
      "source": [
        ""
      ],
      "execution_count": null,
      "outputs": []
    }
  ]
}