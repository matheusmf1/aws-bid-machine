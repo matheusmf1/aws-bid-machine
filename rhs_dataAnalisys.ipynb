{
  "nbformat": 4,
  "nbformat_minor": 0,
  "metadata": {
    "colab": {
      "name": "rhs-dataAnalisys.ipynb",
      "provenance": [],
      "collapsed_sections": [],
      "mount_file_id": "1ltp8h7xfifVjOICmTef7r-dcRPdO5IZE",
      "authorship_tag": "ABX9TyOAx82JX+G4V6Rr2x/fV6P/",
      "include_colab_link": true
    },
    "kernelspec": {
      "name": "python3",
      "display_name": "Python 3"
    }
  },
  "cells": [
    {
      "cell_type": "markdown",
      "metadata": {
        "id": "view-in-github",
        "colab_type": "text"
      },
      "source": [
        "<a href=\"https://colab.research.google.com/github/matheusmf1/aws-bid-machine/blob/main/rhs_dataAnalisys.ipynb\" target=\"_parent\"><img src=\"https://colab.research.google.com/assets/colab-badge.svg\" alt=\"Open In Colab\"/></a>"
      ]
    },
    {
      "cell_type": "code",
      "metadata": {
        "id": "ZdUI6UNIFbPf"
      },
      "source": [
        "pip install awswrangler"
      ],
      "execution_count": null,
      "outputs": []
    },
    {
      "cell_type": "code",
      "metadata": {
        "id": "zAFGjpYpsjl4"
      },
      "source": [
        "import pandas as pd\n",
        "import awswrangler as wr"
      ],
      "execution_count": 244,
      "outputs": []
    },
    {
      "cell_type": "code",
      "metadata": {
        "colab": {
          "base_uri": "https://localhost:8080/",
          "height": 80
        },
        "id": "UcB-0_oftmvn",
        "outputId": "e8935064-ed84-49b1-bb18-dbe79dc558c5"
      },
      "source": [
        "# fileName = \"/content/drive/MyDrive/Colab Notebooks/155917_8_1095_20201207223020.json\"\n",
        "fileName = \"/content/drive/MyDrive/Colab Notebooks/155917_3_1091_20201207220101.json\"\n",
        "\n",
        "data = pd.read_json( fileName )\n",
        "\n",
        "data"
      ],
      "execution_count": 269,
      "outputs": [
        {
          "output_type": "execute_result",
          "data": {
            "text/html": [
              "<div>\n",
              "<style scoped>\n",
              "    .dataframe tbody tr th:only-of-type {\n",
              "        vertical-align: middle;\n",
              "    }\n",
              "\n",
              "    .dataframe tbody tr th {\n",
              "        vertical-align: top;\n",
              "    }\n",
              "\n",
              "    .dataframe thead th {\n",
              "        text-align: right;\n",
              "    }\n",
              "</style>\n",
              "<table border=\"1\" class=\"dataframe\">\n",
              "  <thead>\n",
              "    <tr style=\"text-align: right;\">\n",
              "      <th></th>\n",
              "      <th>licitacoes</th>\n",
              "    </tr>\n",
              "  </thead>\n",
              "  <tbody>\n",
              "    <tr>\n",
              "      <th>licitacao</th>\n",
              "      <td>[{'palavrasEncontradasAgrupadasXml': {'palavra...</td>\n",
              "    </tr>\n",
              "  </tbody>\n",
              "</table>\n",
              "</div>"
            ],
            "text/plain": [
              "                                                  licitacoes\n",
              "licitacao  [{'palavrasEncontradasAgrupadasXml': {'palavra..."
            ]
          },
          "metadata": {
            "tags": []
          },
          "execution_count": 269
        }
      ]
    },
    {
      "cell_type": "code",
      "metadata": {
        "id": "WhSMfNylFt5o"
      },
      "source": [
        "def getJsonDataWr():\n",
        "  bucket = 's3://rhs-xml-test/'\n",
        "  # filePath = event['Records'][0]['s3']['object']['key']\n",
        "  # filePath = 'JSON/155917_3_1091_20201207220101.json'\n",
        "  filePath = \"JSON/155917_8_1095_20201207223020.json\"\n",
        "\n",
        "  path = f'{bucket}{filePath}'\n",
        "\n",
        "  json_data = wr.s3.read_json( [ path ] )\n",
        "  return json_data\n",
        "\n",
        "def getJsonData( event ):\n",
        "    # filePath = event['Records'][0]['s3']['object']['key']\n",
        "    # filePath = \"JSON/155917_8_1095_20201207223020.json\"\n",
        "    filePath = \"JSON/155917_3_1091_20201207220101.json\"\n",
        "    \n",
        "    s3 = boto3.resource( 's3' )\n",
        "    \n",
        "    content_object = s3.Object( 'rhs-xml-test', filePath )\n",
        "\n",
        "    file_content = content_object.get()['Body'].read()\n",
        " \n",
        "    json_data = json.loads( file_content )\n",
        "\n",
        "    return json_data\n"
      ],
      "execution_count": null,
      "outputs": []
    },
    {
      "cell_type": "code",
      "metadata": {
        "id": "s49fvElm3wIL"
      },
      "source": [
        "licitacaoType = type(data['licitacoes']['licitacao'])\n",
        "\n",
        "if licitacaoType == dict:\n",
        "  \n",
        "  mainData = data['licitacoes']['licitacao']\n",
        "  df_new = prepareDataSet( mainData ) \n",
        "\n",
        "elif licitacaoType == list:\n",
        "\n",
        "  df_new = pd.DataFrame()\n",
        "  \n",
        "  for licitacao in data['licitacoes']['licitacao']:\n",
        "    df_new = df_new.append( prepareDataSet( licitacao ), ignore_index = True )"
      ],
      "execution_count": 270,
      "outputs": []
    },
    {
      "cell_type": "code",
      "metadata": {
        "colab": {
          "base_uri": "https://localhost:8080/",
          "height": 349
        },
        "id": "8pWl2VOFhwwY",
        "outputId": "76326366-751e-4eb0-8f56-2f54a03ae5c5"
      },
      "source": [
        "df_new"
      ],
      "execution_count": 271,
      "outputs": [
        {
          "output_type": "execute_result",
          "data": {
            "text/html": [
              "<div>\n",
              "<style scoped>\n",
              "    .dataframe tbody tr th:only-of-type {\n",
              "        vertical-align: middle;\n",
              "    }\n",
              "\n",
              "    .dataframe tbody tr th {\n",
              "        vertical-align: top;\n",
              "    }\n",
              "\n",
              "    .dataframe thead th {\n",
              "        text-align: right;\n",
              "    }\n",
              "</style>\n",
              "<table border=\"1\" class=\"dataframe\">\n",
              "  <thead>\n",
              "    <tr style=\"text-align: right;\">\n",
              "      <th></th>\n",
              "      <th>objeto</th>\n",
              "      <th>modalidade</th>\n",
              "      <th>registro</th>\n",
              "      <th>orgao</th>\n",
              "      <th>prazoTipo</th>\n",
              "      <th>prazoData</th>\n",
              "      <th>prazoHora</th>\n",
              "      <th>endereco</th>\n",
              "      <th>cidade</th>\n",
              "      <th>uf</th>\n",
              "      <th>telefone</th>\n",
              "      <th>site</th>\n",
              "      <th>palavraEncontrada</th>\n",
              "      <th>links</th>\n",
              "      <th>trechos</th>\n",
              "    </tr>\n",
              "  </thead>\n",
              "  <tbody>\n",
              "    <tr>\n",
              "      <th>0</th>\n",
              "      <td>UASG: 200109  PREGAO ELETRONICO -  CONTRATACAO...</td>\n",
              "      <td>PE/21/2020</td>\n",
              "      <td>10235516/11590</td>\n",
              "      <td>Departamento de Policia Rodoviaria Federal</td>\n",
              "      <td>Prazo para Abertura</td>\n",
              "      <td>17/12/2020</td>\n",
              "      <td>09:00</td>\n",
              "      <td>Spo, Quadra 3, Lote 5 Complexo Sede da PRF, As...</td>\n",
              "      <td>Brasilia</td>\n",
              "      <td>DF</td>\n",
              "      <td>Nao informado pela fonte</td>\n",
              "      <td>None</td>\n",
              "      <td>Armazenamento,AVA,Backup,CRM,EAD,Google,Hardwa...</td>\n",
              "      <td>https://www.licitacao.com.br/editais/IA-MARE/2...</td>\n",
              "      <td>originÃ¡rios da contrataÃ§Ã£o, recolhendo-os a...</td>\n",
              "    </tr>\n",
              "    <tr>\n",
              "      <th>1</th>\n",
              "      <td>UASG: 135058  PREGAO ELETRONICO -  CONTRATACAO...</td>\n",
              "      <td>PE/14/2020</td>\n",
              "      <td>10246947/11590</td>\n",
              "      <td>EMBRAPA - Empresa Brasileira de Pesquisa Agrop...</td>\n",
              "      <td>Prazo para Abertura das Propostas</td>\n",
              "      <td>18/12/2020</td>\n",
              "      <td>09:00</td>\n",
              "      <td>http://www.comprasnet.gov.br</td>\n",
              "      <td>Brasilia</td>\n",
              "      <td>DF</td>\n",
              "      <td>Nao informado pela fonte</td>\n",
              "      <td>None</td>\n",
              "      <td>Armazenamento,Cloud,ERP,Nuvem,SAAS</td>\n",
              "      <td>https://www.licitacao.com.br/editais/IA-MARE/2...</td>\n",
              "      <td>materiais reciclÃ¡veis, de forma a garantir a ...</td>\n",
              "    </tr>\n",
              "    <tr>\n",
              "      <th>2</th>\n",
              "      <td>UASG: 135036  PREGAO ELETRONICO -  FORMACAO DE...</td>\n",
              "      <td>PE/38/2020</td>\n",
              "      <td>10246938/11590</td>\n",
              "      <td>EMBRAPA - Empresa Brasileira de Pesquisa Agrop...</td>\n",
              "      <td>Prazo para Abertura das Propostas</td>\n",
              "      <td>17/12/2020</td>\n",
              "      <td>09:00</td>\n",
              "      <td>Rod. GO 462, Km 12</td>\n",
              "      <td>SANTO ANTONIO DE GOIAS</td>\n",
              "      <td>GO</td>\n",
              "      <td>(62) 3533-2190</td>\n",
              "      <td>None</td>\n",
              "      <td>Armazenamento,Backup,Big Data,Hardware,Microso...</td>\n",
              "      <td>https://www.licitacao.com.br/editais/IA-MARE/2...</td>\n",
              "      <td>Module) para &lt;em&gt;armazenamento&lt;/em&gt; de chaves ...</td>\n",
              "    </tr>\n",
              "  </tbody>\n",
              "</table>\n",
              "</div>"
            ],
            "text/plain": [
              "                                              objeto  ...                                            trechos\n",
              "0  UASG: 200109  PREGAO ELETRONICO -  CONTRATACAO...  ...  originÃ¡rios da contrataÃ§Ã£o, recolhendo-os a...\n",
              "1  UASG: 135058  PREGAO ELETRONICO -  CONTRATACAO...  ...  materiais reciclÃ¡veis, de forma a garantir a ...\n",
              "2  UASG: 135036  PREGAO ELETRONICO -  FORMACAO DE...  ...  Module) para <em>armazenamento</em> de chaves ...\n",
              "\n",
              "[3 rows x 15 columns]"
            ]
          },
          "metadata": {
            "tags": []
          },
          "execution_count": 271
        }
      ]
    },
    {
      "cell_type": "code",
      "metadata": {
        "id": "DV7pCS-c2fHG"
      },
      "source": [
        "def prepareDataSet( data ):\n",
        "\n",
        "  df = pd.DataFrame( data )\n",
        "\n",
        "  # Create new Columns\n",
        "  createNewColumns( df )\n",
        "\n",
        "  # Drop nested columns\n",
        "  df.drop( ['palavrasEncontradasAgrupadasXml', 'linksAgrupadosXml', 'trechosEncontradosAgrupadosXml' ], axis = 1, inplace = True  )\n",
        "\n",
        "  df.reset_index( drop = True, inplace = True )\n",
        "  df.drop_duplicates( inplace = True )\n",
        "\n",
        "  return df"
      ],
      "execution_count": 265,
      "outputs": []
    },
    {
      "cell_type": "code",
      "metadata": {
        "id": "89M75GaBek1A"
      },
      "source": [
        "def createNewColumns( df ):\n",
        "  \n",
        "  if type( df['palavrasEncontradasAgrupadasXml']['palavra'] ) == str:\n",
        "    \n",
        "    df['palavraEncontrada'] = df['palavrasEncontradasAgrupadasXml']['palavra']\n",
        "\n",
        "  elif type(df['palavrasEncontradasAgrupadasXml']['palavra']) == list:\n",
        "\n",
        "    df['palavraEncontrada'] = \",\".join( df['palavrasEncontradasAgrupadasXml']['palavra'] )  \n",
        "\n",
        "\n",
        "  if type( df['linksAgrupadosXml']['link'] ) == str:\n",
        "    \n",
        "    df['links'] = df['linksAgrupadosXml']['link']\n",
        "\n",
        "  elif ( type( df['linksAgrupadosXml']['link'] ) == list ):\n",
        "    \n",
        "    df['links'] = \",\".join( df['linksAgrupadosXml']['link'] )  \n",
        "\n",
        "\n",
        "  if type( df['trechosEncontradosAgrupadosXml']['trecho'] ) == str:\n",
        "    \n",
        "    df['trechos'] = df['trechosEncontradosAgrupadosXml']['trecho']\n",
        "\n",
        "  elif ( type( df['trechosEncontradosAgrupadosXml']['trecho'] ) == list ):\n",
        "   \n",
        "    df['trechos'] = \",\".join( df['trechosEncontradosAgrupadosXml']['trecho'] )"
      ],
      "execution_count": null,
      "outputs": []
    },
    {
      "cell_type": "code",
      "metadata": {
        "id": "hEEz6wfTgX36"
      },
      "source": [
        ""
      ],
      "execution_count": null,
      "outputs": []
    }
  ]
}